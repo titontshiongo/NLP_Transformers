{
 "cells": [
  {
   "cell_type": "code",
   "execution_count": 217,
   "id": "10372df5",
   "metadata": {},
   "outputs": [
    {
     "name": "stderr",
     "output_type": "stream",
     "text": [
      "[nltk_data] Downloading package stopwords to /home/titon/nltk_data...\n",
      "[nltk_data]   Package stopwords is already up-to-date!\n"
     ]
    }
   ],
   "source": [
    "import pandas as pd\n",
    "import numpy as np\n",
    "import matplotlib.pyplot as plt\n",
    "import seaborn as sns \n",
    "from sklearn.model_selection import train_test_split\n",
    "from sklearn.metrics import confusion_matrix, classification_report, accuracy_score\n",
    "\n",
    "from tqdm import tqdm # Progress Bar\n",
    "import tensorflow as tf\n",
    "import transformers\n",
    "from transformers import DistilBertTokenizer,DistilBertModel\n",
    "from transformers import TFDistilBertForSequenceClassification\n",
    "from transformers import AutoTokenizer\n",
    "from transformers import TextClassificationPipeline\n",
    "from transformers import DistilBertTokenizer, TFDistilBertModel, DistilBertConfig\n",
    "from transformers import DistilBertTokenizerFast\n",
    "\n",
    "from tensorflow.keras.callbacks import ModelCheckpoint, ReduceLROnPlateau, EarlyStopping\n",
    "\n",
    "import os\n",
    "\n",
    "\n",
    "import re\n",
    "import nltk\n",
    "from nltk.corpus import stopwords\n",
    "nltk.download('stopwords')\n",
    "stopw= stopwords.words('english')\n",
    "\n",
    "# Import utility functions\n",
    "#from src.utils.train_utils import batch_encode"
   ]
  },
  {
   "cell_type": "code",
   "execution_count": 13,
   "id": "95f8fa6e",
   "metadata": {},
   "outputs": [],
   "source": [
    "train=pd.read_csv('emotion_train.txt',delimiter=';',header=None,names=['sentence','label'])\n",
    "test=pd.read_csv('emotion_test.txt',delimiter=';',header=None,names=['sentence','label'])\n",
    "val=pd.read_csv('emotion_val.txt',delimiter=';',header=None,names=['sentence','label'])"
   ]
  },
  {
   "cell_type": "code",
   "execution_count": 26,
   "id": "ee95d001",
   "metadata": {},
   "outputs": [
    {
     "data": {
      "text/html": [
       "<div>\n",
       "<style scoped>\n",
       "    .dataframe tbody tr th:only-of-type {\n",
       "        vertical-align: middle;\n",
       "    }\n",
       "\n",
       "    .dataframe tbody tr th {\n",
       "        vertical-align: top;\n",
       "    }\n",
       "\n",
       "    .dataframe thead th {\n",
       "        text-align: right;\n",
       "    }\n",
       "</style>\n",
       "<table border=\"1\" class=\"dataframe\">\n",
       "  <thead>\n",
       "    <tr style=\"text-align: right;\">\n",
       "      <th></th>\n",
       "      <th>sentence</th>\n",
       "      <th>label</th>\n",
       "    </tr>\n",
       "  </thead>\n",
       "  <tbody>\n",
       "    <tr>\n",
       "      <th>0</th>\n",
       "      <td>i didnt feel humiliated</td>\n",
       "      <td>sadness</td>\n",
       "    </tr>\n",
       "    <tr>\n",
       "      <th>1</th>\n",
       "      <td>i can go from feeling so hopeless to so damned...</td>\n",
       "      <td>sadness</td>\n",
       "    </tr>\n",
       "    <tr>\n",
       "      <th>2</th>\n",
       "      <td>im grabbing a minute to post i feel greedy wrong</td>\n",
       "      <td>anger</td>\n",
       "    </tr>\n",
       "    <tr>\n",
       "      <th>3</th>\n",
       "      <td>i am ever feeling nostalgic about the fireplac...</td>\n",
       "      <td>love</td>\n",
       "    </tr>\n",
       "    <tr>\n",
       "      <th>4</th>\n",
       "      <td>i am feeling grouchy</td>\n",
       "      <td>anger</td>\n",
       "    </tr>\n",
       "  </tbody>\n",
       "</table>\n",
       "</div>"
      ],
      "text/plain": [
       "                                            sentence    label\n",
       "0                            i didnt feel humiliated  sadness\n",
       "1  i can go from feeling so hopeless to so damned...  sadness\n",
       "2   im grabbing a minute to post i feel greedy wrong    anger\n",
       "3  i am ever feeling nostalgic about the fireplac...     love\n",
       "4                               i am feeling grouchy    anger"
      ]
     },
     "execution_count": 26,
     "metadata": {},
     "output_type": "execute_result"
    }
   ],
   "source": [
    "train.head()"
   ]
  },
  {
   "cell_type": "code",
   "execution_count": 17,
   "id": "cb290336",
   "metadata": {},
   "outputs": [
    {
     "name": "stdout",
     "output_type": "stream",
     "text": [
      "<class 'pandas.core.frame.DataFrame'>\n",
      "RangeIndex: 2000 entries, 0 to 1999\n",
      "Data columns (total 2 columns):\n",
      " #   Column    Non-Null Count  Dtype \n",
      "---  ------    --------------  ----- \n",
      " 0   sentence  2000 non-null   object\n",
      " 1   label     2000 non-null   object\n",
      "dtypes: object(2)\n",
      "memory usage: 31.4+ KB\n"
     ]
    }
   ],
   "source": [
    "val.info()"
   ]
  },
  {
   "cell_type": "markdown",
   "id": "6ff891b4",
   "metadata": {},
   "source": [
    "df = pd.concat([train,test,val])"
   ]
  },
  {
   "cell_type": "code",
   "execution_count": 19,
   "id": "1243cdfe",
   "metadata": {},
   "outputs": [
    {
     "data": {
      "text/html": [
       "<div>\n",
       "<style scoped>\n",
       "    .dataframe tbody tr th:only-of-type {\n",
       "        vertical-align: middle;\n",
       "    }\n",
       "\n",
       "    .dataframe tbody tr th {\n",
       "        vertical-align: top;\n",
       "    }\n",
       "\n",
       "    .dataframe thead th {\n",
       "        text-align: right;\n",
       "    }\n",
       "</style>\n",
       "<table border=\"1\" class=\"dataframe\">\n",
       "  <thead>\n",
       "    <tr style=\"text-align: right;\">\n",
       "      <th></th>\n",
       "      <th>sentence</th>\n",
       "      <th>label</th>\n",
       "    </tr>\n",
       "  </thead>\n",
       "  <tbody>\n",
       "    <tr>\n",
       "      <th>0</th>\n",
       "      <td>i didnt feel humiliated</td>\n",
       "      <td>sadness</td>\n",
       "    </tr>\n",
       "    <tr>\n",
       "      <th>1</th>\n",
       "      <td>i can go from feeling so hopeless to so damned...</td>\n",
       "      <td>sadness</td>\n",
       "    </tr>\n",
       "    <tr>\n",
       "      <th>2</th>\n",
       "      <td>im grabbing a minute to post i feel greedy wrong</td>\n",
       "      <td>anger</td>\n",
       "    </tr>\n",
       "    <tr>\n",
       "      <th>3</th>\n",
       "      <td>i am ever feeling nostalgic about the fireplac...</td>\n",
       "      <td>love</td>\n",
       "    </tr>\n",
       "    <tr>\n",
       "      <th>4</th>\n",
       "      <td>i am feeling grouchy</td>\n",
       "      <td>anger</td>\n",
       "    </tr>\n",
       "  </tbody>\n",
       "</table>\n",
       "</div>"
      ],
      "text/plain": [
       "                                            sentence    label\n",
       "0                            i didnt feel humiliated  sadness\n",
       "1  i can go from feeling so hopeless to so damned...  sadness\n",
       "2   im grabbing a minute to post i feel greedy wrong    anger\n",
       "3  i am ever feeling nostalgic about the fireplac...     love\n",
       "4                               i am feeling grouchy    anger"
      ]
     },
     "execution_count": 19,
     "metadata": {},
     "output_type": "execute_result"
    }
   ],
   "source": [
    "df.head()"
   ]
  },
  {
   "cell_type": "code",
   "execution_count": 56,
   "id": "c6be3c3d",
   "metadata": {},
   "outputs": [
    {
     "data": {
      "text/plain": [
       "sentence    0\n",
       "label       0\n",
       "count       0\n",
       "dtype: int64"
      ]
     },
     "execution_count": 56,
     "metadata": {},
     "output_type": "execute_result"
    }
   ],
   "source": [
    "df.isna().sum()"
   ]
  },
  {
   "cell_type": "code",
   "execution_count": 60,
   "id": "741051c0",
   "metadata": {},
   "outputs": [
    {
     "name": "stdout",
     "output_type": "stream",
     "text": [
      "there are 20000 entries in the data_train\n"
     ]
    }
   ],
   "source": [
    "print(f'there are {df.shape[0]} entries in the data_train')"
   ]
  },
  {
   "cell_type": "code",
   "execution_count": 25,
   "id": "6e7ff013",
   "metadata": {},
   "outputs": [
    {
     "name": "stdout",
     "output_type": "stream",
     "text": [
      "there are 2000 entries in the data_train\n"
     ]
    }
   ],
   "source": [
    "print(f'there are {test.shape[0]} entries in the data_train')"
   ]
  },
  {
   "cell_type": "markdown",
   "id": "f8465de0",
   "metadata": {},
   "source": [
    "# Histogramme pour compter le nombre des mots dans une phrase"
   ]
  },
  {
   "cell_type": "code",
   "execution_count": 61,
   "id": "920f001f",
   "metadata": {},
   "outputs": [],
   "source": [
    "# nouvelle colonne count avec la Fonction pour compter le nombre de mot dans une phrase selon le label\n",
    "# cette new colonne qui nous aide à \n",
    "df['count']= df['sentence'].apply(lambda x: len(x.split()))"
   ]
  },
  {
   "cell_type": "code",
   "execution_count": 62,
   "id": "2b7d1f98",
   "metadata": {},
   "outputs": [
    {
     "data": {
      "text/html": [
       "<div>\n",
       "<style scoped>\n",
       "    .dataframe tbody tr th:only-of-type {\n",
       "        vertical-align: middle;\n",
       "    }\n",
       "\n",
       "    .dataframe tbody tr th {\n",
       "        vertical-align: top;\n",
       "    }\n",
       "\n",
       "    .dataframe thead th {\n",
       "        text-align: right;\n",
       "    }\n",
       "</style>\n",
       "<table border=\"1\" class=\"dataframe\">\n",
       "  <thead>\n",
       "    <tr style=\"text-align: right;\">\n",
       "      <th></th>\n",
       "      <th>sentence</th>\n",
       "      <th>label</th>\n",
       "      <th>count</th>\n",
       "    </tr>\n",
       "  </thead>\n",
       "  <tbody>\n",
       "    <tr>\n",
       "      <th>0</th>\n",
       "      <td>i didnt feel humiliated</td>\n",
       "      <td>sadness</td>\n",
       "      <td>4</td>\n",
       "    </tr>\n",
       "    <tr>\n",
       "      <th>1</th>\n",
       "      <td>i can go from feeling so hopeless to so damned...</td>\n",
       "      <td>sadness</td>\n",
       "      <td>21</td>\n",
       "    </tr>\n",
       "    <tr>\n",
       "      <th>2</th>\n",
       "      <td>im grabbing a minute to post i feel greedy wrong</td>\n",
       "      <td>anger</td>\n",
       "      <td>10</td>\n",
       "    </tr>\n",
       "    <tr>\n",
       "      <th>3</th>\n",
       "      <td>i am ever feeling nostalgic about the fireplac...</td>\n",
       "      <td>love</td>\n",
       "      <td>18</td>\n",
       "    </tr>\n",
       "    <tr>\n",
       "      <th>4</th>\n",
       "      <td>i am feeling grouchy</td>\n",
       "      <td>anger</td>\n",
       "      <td>4</td>\n",
       "    </tr>\n",
       "  </tbody>\n",
       "</table>\n",
       "</div>"
      ],
      "text/plain": [
       "                                            sentence    label  count\n",
       "0                            i didnt feel humiliated  sadness      4\n",
       "1  i can go from feeling so hopeless to so damned...  sadness     21\n",
       "2   im grabbing a minute to post i feel greedy wrong    anger     10\n",
       "3  i am ever feeling nostalgic about the fireplac...     love     18\n",
       "4                               i am feeling grouchy    anger      4"
      ]
     },
     "execution_count": 62,
     "metadata": {},
     "output_type": "execute_result"
    }
   ],
   "source": [
    "df.head()"
   ]
  },
  {
   "cell_type": "code",
   "execution_count": 65,
   "id": "666b2b81",
   "metadata": {},
   "outputs": [
    {
     "data": {
      "text/plain": [
       "<Figure size 720x720 with 0 Axes>"
      ]
     },
     "metadata": {},
     "output_type": "display_data"
    },
    {
     "data": {
      "image/png": "[encoded data removed]",
      "text/plain": [
       "<Figure size 360x360 with 1 Axes>"
      ]
     },
     "metadata": {
      "needs_background": "light"
     },
     "output_type": "display_data"
    }
   ],
   "source": [
    "plt.figure(figsize=(10,10))\n",
    "sns.displot(train['count'])\n",
    "plt.xlim(0,100)\n",
    "plt.xlabel('Nombre de mots', fontsize=16)\n",
    "plt.title('Distribution des nombres de mots',fontsize=18)\n",
    "plt.show()"
   ]
  },
  {
   "cell_type": "code",
   "execution_count": 66,
   "id": "0923dd7b",
   "metadata": {},
   "outputs": [
    {
     "data": {
      "text/plain": [
       "Index(['joy', 'sadness', 'anger', 'fear', 'love', 'surprise'], dtype='object')"
      ]
     },
     "execution_count": 66,
     "metadata": {},
     "output_type": "execute_result"
    }
   ],
   "source": [
    "label_count=df['label'].value_counts()\n",
    "label=label_count.index\n",
    "label"
   ]
  },
  {
   "cell_type": "code",
   "execution_count": 67,
   "id": "fadaca49",
   "metadata": {},
   "outputs": [
    {
     "data": {
      "text/plain": [
       "joy         6761\n",
       "sadness     5797\n",
       "anger       2709\n",
       "fear        2373\n",
       "love        1641\n",
       "surprise     719\n",
       "Name: label, dtype: int64"
      ]
     },
     "execution_count": 67,
     "metadata": {},
     "output_type": "execute_result"
    }
   ],
   "source": [
    "label_count"
   ]
  },
  {
   "cell_type": "code",
   "execution_count": 68,
   "id": "7707794f",
   "metadata": {},
   "outputs": [
    {
     "data": {
      "image/png": "[encoded data removed]",
      "text/plain": [
       "<Figure size 864x360 with 1 Axes>"
      ]
     },
     "metadata": {
      "needs_background": "light"
     },
     "output_type": "display_data"
    }
   ],
   "source": [
    "fig=plt.figure(figsize=(12,5))\n",
    "ax=fig.add_subplot(111)\n",
    "    \n",
    "sns.barplot(x=label_count.index,y=label_count)\n",
    "plt.xlabel('Labels',fontsize=15)\n",
    "plt.ylabel('Nombre de Phrases',fontsize=15)\n",
    "plt.title(' Nombre de phrases par label', fontsize=18)\n",
    "plt.show()\n"
   ]
  },
  {
   "cell_type": "code",
   "execution_count": 69,
   "id": "473bb7ab",
   "metadata": {},
   "outputs": [
    {
     "data": {
      "text/plain": [
       "array(['sadness', 'anger', 'love', 'surprise', 'fear', 'joy'],\n",
       "      dtype=object)"
      ]
     },
     "execution_count": 69,
     "metadata": {},
     "output_type": "execute_result"
    }
   ],
   "source": [
    "df['label'].unique()"
   ]
  },
  {
   "cell_type": "markdown",
   "id": "4840bb9c",
   "metadata": {},
   "source": [
    "# Encodage des labels en variables catégoriques"
   ]
  },
  {
   "cell_type": "code",
   "execution_count": 70,
   "id": "e7df74fa",
   "metadata": {},
   "outputs": [
    {
     "data": {
      "text/html": [
       "<div>\n",
       "<style scoped>\n",
       "    .dataframe tbody tr th:only-of-type {\n",
       "        vertical-align: middle;\n",
       "    }\n",
       "\n",
       "    .dataframe tbody tr th {\n",
       "        vertical-align: top;\n",
       "    }\n",
       "\n",
       "    .dataframe thead th {\n",
       "        text-align: right;\n",
       "    }\n",
       "</style>\n",
       "<table border=\"1\" class=\"dataframe\">\n",
       "  <thead>\n",
       "    <tr style=\"text-align: right;\">\n",
       "      <th></th>\n",
       "      <th>sentence</th>\n",
       "      <th>label</th>\n",
       "      <th>count</th>\n",
       "      <th>encoded_labels</th>\n",
       "    </tr>\n",
       "  </thead>\n",
       "  <tbody>\n",
       "    <tr>\n",
       "      <th>0</th>\n",
       "      <td>i didnt feel humiliated</td>\n",
       "      <td>sadness</td>\n",
       "      <td>4</td>\n",
       "      <td>4</td>\n",
       "    </tr>\n",
       "    <tr>\n",
       "      <th>1</th>\n",
       "      <td>i can go from feeling so hopeless to so damned...</td>\n",
       "      <td>sadness</td>\n",
       "      <td>21</td>\n",
       "      <td>4</td>\n",
       "    </tr>\n",
       "    <tr>\n",
       "      <th>2</th>\n",
       "      <td>im grabbing a minute to post i feel greedy wrong</td>\n",
       "      <td>anger</td>\n",
       "      <td>10</td>\n",
       "      <td>0</td>\n",
       "    </tr>\n",
       "    <tr>\n",
       "      <th>3</th>\n",
       "      <td>i am ever feeling nostalgic about the fireplac...</td>\n",
       "      <td>love</td>\n",
       "      <td>18</td>\n",
       "      <td>3</td>\n",
       "    </tr>\n",
       "    <tr>\n",
       "      <th>4</th>\n",
       "      <td>i am feeling grouchy</td>\n",
       "      <td>anger</td>\n",
       "      <td>4</td>\n",
       "      <td>0</td>\n",
       "    </tr>\n",
       "  </tbody>\n",
       "</table>\n",
       "</div>"
      ],
      "text/plain": [
       "                                            sentence    label  count  \\\n",
       "0                            i didnt feel humiliated  sadness      4   \n",
       "1  i can go from feeling so hopeless to so damned...  sadness     21   \n",
       "2   im grabbing a minute to post i feel greedy wrong    anger     10   \n",
       "3  i am ever feeling nostalgic about the fireplac...     love     18   \n",
       "4                               i am feeling grouchy    anger      4   \n",
       "\n",
       "   encoded_labels  \n",
       "0               4  \n",
       "1               4  \n",
       "2               0  \n",
       "3               3  \n",
       "4               0  "
      ]
     },
     "execution_count": 70,
     "metadata": {},
     "output_type": "execute_result"
    }
   ],
   "source": [
    "df['encoded_labels']=df['label'].astype('category').cat.codes\n",
    "train.head()"
   ]
  },
  {
   "cell_type": "markdown",
   "id": "f620afa1",
   "metadata": {},
   "source": [
    "# transformation de la colonne Sentence et encode_label en objet list"
   ]
  },
  {
   "cell_type": "code",
   "execution_count": 71,
   "id": "21101d2b",
   "metadata": {},
   "outputs": [],
   "source": [
    "data_texts  = df['sentence'].to_list()\n",
    "data_labels = df['encoded_labels'].to_list()"
   ]
  },
  {
   "cell_type": "markdown",
   "id": "d84e3e8f",
   "metadata": {},
   "source": [
    "# Train Test Split"
   ]
  },
  {
   "cell_type": "code",
   "execution_count": 78,
   "id": "663ff494",
   "metadata": {},
   "outputs": [],
   "source": [
    "# Pour l'entraînement et la validation du modèle\n",
    "train_text,val_text,train_label,val_label=train_test_split(data_texts,data_labels,test_size=0.2,random_state=0)\n",
    "\n",
    "# Pour l'entraînement et le test du modèle\n",
    "train_text,test_text,train_label,test_label=train_test_split(train_text,train_label,test_size=0.01,random_state=0)"
   ]
  },
  {
   "cell_type": "markdown",
   "id": "51a9ed0a",
   "metadata": {},
   "source": [
    "# Tokenisation"
   ]
  },
  {
   "cell_type": "code",
   "execution_count": 85,
   "id": "bca9ba30",
   "metadata": {},
   "outputs": [
    {
     "name": "stdout",
     "output_type": "stream",
     "text": [
      "The maximum amount of tokens in the dataset is 85\n"
     ]
    }
   ],
   "source": [
    "# Pour trouver le max de token dans nos données d'entraînement\n",
    "max_val = 0\n",
    "for sent in (train_text + train_text + val_text):\n",
    "    try:\n",
    "        sent_tok_len = len(tokenizer.tokenize(sent))\n",
    "        max_val = sent_tok_len if (sent_tok_len > max_val) else max_val\n",
    "    except:\n",
    "        pass\n",
    "    \n",
    "print(f\"The maximum amount of tokens in the dataset is {max_val}\")"
   ]
  },
  {
   "cell_type": "code",
   "execution_count": 162,
   "id": "130fab70",
   "metadata": {},
   "outputs": [],
   "source": [
    "MODEL_NAME = 'distilbert-base-uncased'\n",
    "MAX_LENGTH = 85\n",
    "\n",
    "tokenizer = DistilBertTokenizer.from_pretrained(MODEL_NAME,  \n",
    "                                                add_special_tokens=True,\n",
    "                                                max_length=MAX_LENGTH, \n",
    "                                                pad_to_max_length=True)\n",
    "\n",
    "def tokenize(sentences, tokenizer):\n",
    "    input_ids, input_masks, input_segments = [], [], []\n",
    "    for sentence in tqdm(sentences):\n",
    "        inputs = tokenizer.encode_plus(sentence, \n",
    "                                       add_special_tokens=True, \n",
    "                                       max_length=MAX_LENGTH, \n",
    "                                       pad_to_max_length=True, \n",
    "                                       return_attention_mask=True,\n",
    "                                       return_tensors='tf',\n",
    "                                       return_token_type_ids=True, \n",
    "                                       truncation=True)\n",
    "        input_ids.append(inputs['input_ids'])\n",
    "        input_masks.append(inputs['attention_mask'])\n",
    "        input_segments.append(inputs['token_type_ids'])        \n",
    "        \n",
    "    return np.asarray(input_ids, dtype='int32'), np.asarray(input_masks, dtype='int32')"
   ]
  },
  {
   "cell_type": "code",
   "execution_count": 179,
   "id": "c1b1ae7d",
   "metadata": {},
   "outputs": [
    {
     "name": "stderr",
     "output_type": "stream",
     "text": [
      "100%|██████████| 15840/15840 [00:03<00:00, 4142.39it/s]\n",
      "100%|██████████| 4000/4000 [00:00<00:00, 4480.20it/s]\n"
     ]
    }
   ],
   "source": [
    "X_train_ids, X_train_attention= tokenize(train_text, tokenizer)\n",
    "X_valid_ids, X_valid_attention= tokenize(val_text, tokenizer)\n"
   ]
  },
  {
   "cell_type": "code",
   "execution_count": 187,
   "id": "5b1ed307",
   "metadata": {},
   "outputs": [],
   "source": [
    "# Essaie2\n",
    "tokenizer = DistilBertTokenizer.from_pretrained('distilbert-base-uncased',do_lower_case=True)# Pour charger le tokenizer du modèle\n",
    "# Encodage des données d'entrainement text en Token\n",
    "train1_encoding = tokenizer(train_text,truncation=True,padding=True,return_tensors='tf')\n",
    "val1_encoding= tokenizer(val_text,truncation=True,padding=True,return_tensors='tf')\n",
    "\n",
    "\n",
    "train_dataset = tf.data.Dataset.from_tensor_slices((\n",
    "   dict(train1_encoding),\n",
    "    train_label\n",
    "))\n",
    "\n",
    "\n",
    "val_dataset = tf.data.Dataset.from_tensor_slices((\n",
    "    dict(val1_encoding),\n",
    "     val_label\n",
    "))\n",
    "\n",
    "# Essaie 3\n",
    "tokenizer = DistilBertTokenizerFast.from_pretrained('distilbert-base-uncased',do_lower_case=True)\n",
    "\n",
    "# Encode X_train\n",
    "X3_train_ids, X3_train_attention = (tokenizer, train_text)\n",
    "\n",
    "# Encode X_valid\n",
    "X3_valid_ids, X3_valid_attention = (tokenizer,val_text)\n"
   ]
  },
  {
   "cell_type": "markdown",
   "id": "8d34cd37",
   "metadata": {},
   "source": [
    "# Création du modèle"
   ]
  },
  {
   "cell_type": "code",
   "execution_count": 166,
   "id": "9be5aa40",
   "metadata": {},
   "outputs": [
    {
     "name": "stderr",
     "output_type": "stream",
     "text": [
      "Some layers from the model checkpoint at distilbert-base-uncased were not used when initializing TFDistilBertModel: ['activation_13', 'vocab_layer_norm', 'vocab_transform', 'vocab_projector']\n",
      "- This IS expected if you are initializing TFDistilBertModel from the checkpoint of a model trained on another task or with another architecture (e.g. initializing a BertForSequenceClassification model from a BertForPreTraining model).\n",
      "- This IS NOT expected if you are initializing TFDistilBertModel from the checkpoint of a model that you expect to be exactly identical (initializing a BertForSequenceClassification model from a BertForSequenceClassification model).\n",
      "All the layers of TFDistilBertModel were initialized from the model checkpoint at distilbert-base-uncased.\n",
      "If your task is similar to the task the model of the checkpoint was trained on, you can already use TFDistilBertModel for predictions without further training.\n"
     ]
    },
    {
     "name": "stdout",
     "output_type": "stream",
     "text": [
      "Model: \"model_8\"\n",
      "__________________________________________________________________________________________________\n",
      " Layer (type)                   Output Shape         Param #     Connected to                     \n",
      "==================================================================================================\n",
      " input_token (InputLayer)       [(None, 85)]         0           []                               \n",
      "                                                                                                  \n",
      " masked_token (InputLayer)      [(None, 85)]         0           []                               \n",
      "                                                                                                  \n",
      " tf_distil_bert_model_8 (TFDist  TFBaseModelOutput(l  66362880   ['input_token[0][0]',            \n",
      " ilBertModel)                   ast_hidden_state=(N               'masked_token[0][0]']           \n",
      "                                one, 85, 768),                                                    \n",
      "                                 hidden_states=((No                                               \n",
      "                                ne, 85, 768),                                                     \n",
      "                                 (None, 85, 768),                                                 \n",
      "                                 (None, 85, 768),                                                 \n",
      "                                 (None, 85, 768),                                                 \n",
      "                                 (None, 85, 768),                                                 \n",
      "                                 (None, 85, 768),                                                 \n",
      "                                 (None, 85, 768)),                                                \n",
      "                                 attentions=((None,                                               \n",
      "                                 12, None, 85),                                                   \n",
      "                                 (None, 12, None, 8                                               \n",
      "                                5),                                                               \n",
      "                                 (None, 12, None, 8                                               \n",
      "                                5),                                                               \n",
      "                                 (None, 12, None, 8                                               \n",
      "                                5),                                                               \n",
      "                                 (None, 12, None, 8                                               \n",
      "                                5),                                                               \n",
      "                                 (None, 12, None, 8                                               \n",
      "                                5)))                                                              \n",
      "                                                                                                  \n",
      " tf.__operators__.getitem_3 (Sl  (None, 768)         0           ['tf_distil_bert_model_8[0][13]']\n",
      " icingOpLambda)                                                                                   \n",
      "                                                                                                  \n",
      " dropout_179 (Dropout)          (None, 768)          0           ['tf.__operators__.getitem_3[0][0\n",
      "                                                                 ]']                              \n",
      "                                                                                                  \n",
      " dense_9 (Dense)                (None, 6)            4614        ['dropout_179[0][0]']            \n",
      "                                                                                                  \n",
      "==================================================================================================\n",
      "Total params: 66,367,494\n",
      "Trainable params: 4,614\n",
      "Non-trainable params: 66,362,880\n",
      "__________________________________________________________________________________________________\n"
     ]
    }
   ],
   "source": [
    "# Méthode 1\n",
    "\n",
    "config = DistilBertConfig.from_pretrained(MODEL_NAME, output_hidden_states=True, output_attentions=True)\n",
    "DistilBERT = TFDistilBertModel.from_pretrained(MODEL_NAME, config=config)\n",
    "\n",
    "input_ids_in = tf.keras.layers.Input(shape=(MAX_LENGTH,), name='input_token', dtype='int32')\n",
    "input_masks_in = tf.keras.layers.Input(shape=(MAX_LENGTH,), name='masked_token', dtype='int32') \n",
    "\n",
    "embedding_layer = DistilBERT(input_ids = input_ids_in, attention_mask = input_masks_in)[0]\n",
    "cls_token = embedding_layer[:, 0, :]\n",
    "X = tf.keras.layers.Dropout(0.2)(cls_token)\n",
    "X = tf.keras.layers.Dense(6, activation='softmax')(X)\n",
    "\n",
    "model = tf.keras.Model(inputs=[input_ids_in, input_masks_in], outputs = X)\n",
    "\n",
    "for layer in model.layers[:3]:\n",
    "    layer.trainable = False\n",
    "\n",
    "model.summary()"
   ]
  },
  {
   "cell_type": "code",
   "execution_count": 235,
   "id": "09f1cfa1",
   "metadata": {},
   "outputs": [
    {
     "name": "stdout",
     "output_type": "stream",
     "text": [
      "You must install pydot (`pip install pydot`) and install graphviz (see instructions at https://graphviz.gitlab.io/download/) for plot_model/model_to_dot to work.\n"
     ]
    }
   ],
   "source": [
    "tf.keras.utils.plot_model(model=model, show_shapes=True, dpi=76, )"
   ]
  },
  {
   "cell_type": "markdown",
   "id": "2f796e92",
   "metadata": {},
   "source": [
    "# Création d'un répertoire pour stocker les poids du modèle "
   ]
  },
  {
   "cell_type": "code",
   "execution_count": 168,
   "id": "dc77b44a",
   "metadata": {},
   "outputs": [],
   "source": [
    "### Create an output directory\n",
    "output_dir = './model1_outputs'\n",
    "if not os.path.exists(output_dir): ### If the file directory doesn't already exists,\n",
    "    os.makedirs(output_dir) ### Make it please"
   ]
  },
  {
   "cell_type": "markdown",
   "id": "635c1f97",
   "metadata": {},
   "source": [
    "# Callbacks"
   ]
  },
  {
   "cell_type": "code",
   "execution_count": 169,
   "id": "047f9db1",
   "metadata": {},
   "outputs": [],
   "source": [
    "model_chekpoint= ModelCheckpoint(filepath= output_dir+'/weihgts.{epoch:02d}.hdf5',\n",
    "                               save_weights_only=True)\n",
    "early_stopping= EarlyStopping(patience=3,# stop après 3 epoch\n",
    "                              monitor='val_loss',# regarder la val_loss\n",
    "                              mode= 'min',\n",
    "                              min_delta=0,# changement après 0\n",
    "                              restore_best_weights=False,\n",
    "                              verbose=1)\n"
   ]
  },
  {
   "cell_type": "markdown",
   "id": "ab247af5",
   "metadata": {},
   "source": [
    "# Compilation + Entraînement"
   ]
  },
  {
   "cell_type": "code",
   "execution_count": 170,
   "id": "d996e636",
   "metadata": {},
   "outputs": [],
   "source": [
    "model.compile(loss='sparse_categorical_crossentropy',optimizer='adam',metrics=['accuracy'])"
   ]
  },
  {
   "cell_type": "code",
   "execution_count": null,
   "id": "403446d0",
   "metadata": {},
   "outputs": [],
   "source": [
    "train1_history=model.fit()"
   ]
  },
  {
   "cell_type": "code",
   "execution_count": 171,
   "id": "5f914b0c",
   "metadata": {},
   "outputs": [
    {
     "ename": "ValueError",
     "evalue": "Failed to find data adapter that can handle input: (<class 'list'> containing values of types {\"<class 'transformers.models.distilbert.tokenization_distilbert_fast.DistilBertTokenizerFast'>\", '(<class \\'list\\'> containing values of types {\"<class \\'str\\'>\"})'}), (<class 'list'> containing values of types {\"<class 'int'>\"})",
     "output_type": "error",
     "traceback": [
      "\u001b[0;31m---------------------------------------------------------------------------\u001b[0m",
      "\u001b[0;31mValueError\u001b[0m                                Traceback (most recent call last)",
      "\u001b[0;32m/tmp/ipykernel_637829/927370933.py\u001b[0m in \u001b[0;36m<module>\u001b[0;34m\u001b[0m\n\u001b[0;32m----> 1\u001b[0;31m train_history= model.fit(x = [X3_train_ids, X3_train_attention],\n\u001b[0m\u001b[1;32m      2\u001b[0m                          \u001b[0my\u001b[0m\u001b[0;34m=\u001b[0m \u001b[0mtrain_label\u001b[0m\u001b[0;34m,\u001b[0m\u001b[0;34m\u001b[0m\u001b[0;34m\u001b[0m\u001b[0m\n\u001b[1;32m      3\u001b[0m                          \u001b[0mepochs\u001b[0m\u001b[0;34m=\u001b[0m\u001b[0;36m10\u001b[0m\u001b[0;34m,\u001b[0m\u001b[0;34m\u001b[0m\u001b[0;34m\u001b[0m\u001b[0m\n\u001b[1;32m      4\u001b[0m                          \u001b[0mbatch_size\u001b[0m\u001b[0;34m=\u001b[0m\u001b[0;36m16\u001b[0m\u001b[0;34m,\u001b[0m\u001b[0;34m\u001b[0m\u001b[0;34m\u001b[0m\u001b[0m\n\u001b[1;32m      5\u001b[0m                          \u001b[0mvalidation_data\u001b[0m\u001b[0;34m=\u001b[0m\u001b[0;34m(\u001b[0m\u001b[0;34m[\u001b[0m\u001b[0mX3_valid_ids\u001b[0m\u001b[0;34m,\u001b[0m \u001b[0mX3_valid_attention\u001b[0m\u001b[0;34m]\u001b[0m\u001b[0;34m,\u001b[0m \u001b[0mval_label\u001b[0m\u001b[0;34m)\u001b[0m\u001b[0;34m,\u001b[0m\u001b[0;34m\u001b[0m\u001b[0;34m\u001b[0m\u001b[0m\n",
      "\u001b[0;32m~/anaconda3/lib/python3.9/site-packages/keras/utils/traceback_utils.py\u001b[0m in \u001b[0;36merror_handler\u001b[0;34m(*args, **kwargs)\u001b[0m\n\u001b[1;32m     65\u001b[0m     \u001b[0;32mexcept\u001b[0m \u001b[0mException\u001b[0m \u001b[0;32mas\u001b[0m \u001b[0me\u001b[0m\u001b[0;34m:\u001b[0m  \u001b[0;31m# pylint: disable=broad-except\u001b[0m\u001b[0;34m\u001b[0m\u001b[0;34m\u001b[0m\u001b[0m\n\u001b[1;32m     66\u001b[0m       \u001b[0mfiltered_tb\u001b[0m \u001b[0;34m=\u001b[0m \u001b[0m_process_traceback_frames\u001b[0m\u001b[0;34m(\u001b[0m\u001b[0me\u001b[0m\u001b[0;34m.\u001b[0m\u001b[0m__traceback__\u001b[0m\u001b[0;34m)\u001b[0m\u001b[0;34m\u001b[0m\u001b[0;34m\u001b[0m\u001b[0m\n\u001b[0;32m---> 67\u001b[0;31m       \u001b[0;32mraise\u001b[0m \u001b[0me\u001b[0m\u001b[0;34m.\u001b[0m\u001b[0mwith_traceback\u001b[0m\u001b[0;34m(\u001b[0m\u001b[0mfiltered_tb\u001b[0m\u001b[0;34m)\u001b[0m \u001b[0;32mfrom\u001b[0m \u001b[0;32mNone\u001b[0m\u001b[0;34m\u001b[0m\u001b[0;34m\u001b[0m\u001b[0m\n\u001b[0m\u001b[1;32m     68\u001b[0m     \u001b[0;32mfinally\u001b[0m\u001b[0;34m:\u001b[0m\u001b[0;34m\u001b[0m\u001b[0;34m\u001b[0m\u001b[0m\n\u001b[1;32m     69\u001b[0m       \u001b[0;32mdel\u001b[0m \u001b[0mfiltered_tb\u001b[0m\u001b[0;34m\u001b[0m\u001b[0;34m\u001b[0m\u001b[0m\n",
      "\u001b[0;32m~/anaconda3/lib/python3.9/site-packages/keras/engine/data_adapter.py\u001b[0m in \u001b[0;36mselect_data_adapter\u001b[0;34m(x, y)\u001b[0m\n\u001b[1;32m    982\u001b[0m   \u001b[0;32mif\u001b[0m \u001b[0;32mnot\u001b[0m \u001b[0madapter_cls\u001b[0m\u001b[0;34m:\u001b[0m\u001b[0;34m\u001b[0m\u001b[0;34m\u001b[0m\u001b[0m\n\u001b[1;32m    983\u001b[0m     \u001b[0;31m# TODO(scottzhu): This should be a less implementation-specific error.\u001b[0m\u001b[0;34m\u001b[0m\u001b[0;34m\u001b[0m\u001b[0m\n\u001b[0;32m--> 984\u001b[0;31m     raise ValueError(\n\u001b[0m\u001b[1;32m    985\u001b[0m         \u001b[0;34m\"Failed to find data adapter that can handle \"\u001b[0m\u001b[0;34m\u001b[0m\u001b[0;34m\u001b[0m\u001b[0m\n\u001b[1;32m    986\u001b[0m         \"input: {}, {}\".format(\n",
      "\u001b[0;31mValueError\u001b[0m: Failed to find data adapter that can handle input: (<class 'list'> containing values of types {\"<class 'transformers.models.distilbert.tokenization_distilbert_fast.DistilBertTokenizerFast'>\", '(<class \\'list\\'> containing values of types {\"<class \\'str\\'>\"})'}), (<class 'list'> containing values of types {\"<class 'int'>\"})"
     ]
    }
   ],
   "source": [
    "train_history= model.fit(x = [X3_train_ids, X3_train_attention],\n",
    "                         y= train_label,\n",
    "                         epochs=10,\n",
    "                         batch_size=16,\n",
    "                         validation_data=([X3_valid_ids, X3_valid_attention], val_label),\n",
    "                         callbacks=[model_chekpoint,early_stopping])"
   ]
  },
  {
   "cell_type": "markdown",
   "id": "38c2c28f",
   "metadata": {},
   "source": [
    "# Version 2"
   ]
  },
  {
   "cell_type": "code",
   "execution_count": 192,
   "id": "f866f6ae",
   "metadata": {},
   "outputs": [],
   "source": [
    "MAX_LEN = 85"
   ]
  },
  {
   "cell_type": "code",
   "execution_count": 219,
   "id": "f9e9b22d",
   "metadata": {},
   "outputs": [],
   "source": [
    "def distil_encode(texts, tokenizer):\n",
    "    ct = len(texts)\n",
    "    input_ids = np.ones((ct, MAX_LEN), dtype='int32')\n",
    "    attention_mask = np.zeros((ct, MAX_LEN), dtype='int32')\n",
    "    token_type_ids = np.zeros((ct, MAX_LEN), dtype='int32') # Not used in text classification\n",
    "\n",
    "    for k, text in enumerate(texts):\n",
    "        # Tokenize\n",
    "        tok_text = tokenizer.tokenize(text)\n",
    "        \n",
    "        # Truncate and convert tokens to numerical IDs\n",
    "        enc_text = tokenizer.convert_tokens_to_ids(tok_text[:(MAX_LEN-2)])\n",
    "        \n",
    "        input_length = len(enc_text) + 2\n",
    "        input_length = input_length if input_length < MAX_LEN else MAX_LEN\n",
    "        \n",
    "        # Add tokens [CLS] and [SEP] at the beginning and the end\n",
    "        input_ids[k,:input_length] = np.asarray([0] + enc_text + [2], dtype='int32')\n",
    "        \n",
    "        # Set to 1s in the attention input\n",
    "        attention_mask[k,:input_length] = 1\n",
    "\n",
    "    return {\n",
    "        'input_word_ids': input_ids,\n",
    "        'input_mask': attention_mask,\n",
    "        'input_type_ids': token_type_ids\n",
    "    }"
   ]
  },
  {
   "cell_type": "code",
   "execution_count": 194,
   "id": "119e5fea",
   "metadata": {},
   "outputs": [],
   "source": [
    "X_train, X_val, y_train, y_val = train_test_split(data_texts,data_labels, test_size=0.2, random_state=777)\n",
    "X_train, X_test, y_train, y_test = train_test_split(X_train,y_train, test_size=0.01, random_state=777)"
   ]
  },
  {
   "cell_type": "code",
   "execution_count": 195,
   "id": "71cf1d3e",
   "metadata": {},
   "outputs": [],
   "source": [
    "tokenizer = TFDistilBertTokenizer.from_pretrained(MODEL_NAME)"
   ]
  },
  {
   "cell_type": "code",
   "execution_count": 196,
   "id": "65d93b83",
   "metadata": {},
   "outputs": [],
   "source": [
    "X_train = distil_encode(X_train, tokenizer)\n",
    "X_val = distil_encode(X_val, tokenizer)\n",
    "\n",
    "y_train = np.asarray(y_train, dtype='int32')\n",
    "y_val = np.asarray(y_val, dtype='int32')"
   ]
  },
  {
   "cell_type": "code",
   "execution_count": 220,
   "id": "7a2a061e",
   "metadata": {},
   "outputs": [],
   "source": [
    "config = DistilBertConfig.from_pretrained(MODEL_NAME, output_hidden_states=True, output_attentions=True)\n"
   ]
  },
  {
   "cell_type": "code",
   "execution_count": 234,
   "id": "d86dd488",
   "metadata": {},
   "outputs": [
    {
     "name": "stderr",
     "output_type": "stream",
     "text": [
      "Some layers from the model checkpoint at distilbert-base-uncased were not used when initializing TFDistilBertForSequenceClassification: ['activation_13', 'vocab_layer_norm', 'vocab_transform', 'vocab_projector']\n",
      "- This IS expected if you are initializing TFDistilBertForSequenceClassification from the checkpoint of a model trained on another task or with another architecture (e.g. initializing a BertForSequenceClassification model from a BertForPreTraining model).\n",
      "- This IS NOT expected if you are initializing TFDistilBertForSequenceClassification from the checkpoint of a model that you expect to be exactly identical (initializing a BertForSequenceClassification model from a BertForSequenceClassification model).\n",
      "Some layers of TFDistilBertForSequenceClassification were not initialized from the model checkpoint at distilbert-base-uncased and are newly initialized: ['dropout_360', 'classifier', 'pre_classifier']\n",
      "You should probably TRAIN this model on a down-stream task to be able to use it for predictions and inference.\n"
     ]
    },
    {
     "name": "stdout",
     "output_type": "stream",
     "text": [
      "Model: \"model_15\"\n",
      "__________________________________________________________________________________________________\n",
      " Layer (type)                   Output Shape         Param #     Connected to                     \n",
      "==================================================================================================\n",
      " input_word_ids (InputLayer)    [(None, 85)]         0           []                               \n",
      "                                                                                                  \n",
      " input_mask (InputLayer)        [(None, 85)]         0           []                               \n",
      "                                                                                                  \n",
      " tf_distil_bert_for_sequence_cl  TFSequenceClassifie  66955010   ['input_word_ids[0][0]',         \n",
      " assification_3 (TFDistilBertFo  rOutput(loss=None,               'input_mask[0][0]']             \n",
      " rSequenceClassification)       logits=(None, 2),                                                 \n",
      "                                 hidden_states=((No                                               \n",
      "                                ne, 85, 768),                                                     \n",
      "                                 (None, 85, 768),                                                 \n",
      "                                 (None, 85, 768),                                                 \n",
      "                                 (None, 85, 768),                                                 \n",
      "                                 (None, 85, 768),                                                 \n",
      "                                 (None, 85, 768),                                                 \n",
      "                                 (None, 85, 768)),                                                \n",
      "                                 attentions=((None,                                               \n",
      "                                 12, None, 85),                                                   \n",
      "                                 (None, 12, None, 8                                               \n",
      "                                5),                                                               \n",
      "                                 (None, 12, None, 8                                               \n",
      "                                5),                                                               \n",
      "                                 (None, 12, None, 8                                               \n",
      "                                5),                                                               \n",
      "                                 (None, 12, None, 8                                               \n",
      "                                5),                                                               \n",
      "                                 (None, 12, None, 8                                               \n",
      "                                5)))                                                              \n",
      "                                                                                                  \n",
      " dropout_361 (Dropout)          (None, 2)            0           ['tf_distil_bert_for_sequence_cla\n",
      "                                                                 ssification_3[0][13]']           \n",
      "                                                                                                  \n",
      " dense_16 (Dense)               (None, 6)            18          ['dropout_361[0][0]']            \n",
      "                                                                                                  \n",
      "==================================================================================================\n",
      "Total params: 66,955,028\n",
      "Trainable params: 18\n",
      "Non-trainable params: 66,955,010\n",
      "__________________________________________________________________________________________________\n"
     ]
    }
   ],
   "source": [
    "input_word_ids = tf.keras.Input(shape=(MAX_LEN,), dtype=tf.int32, name='input_word_ids')\n",
    "input_mask = tf.keras.Input(shape=(MAX_LEN,), dtype=tf.int32, name='input_mask')\n",
    "\n",
    "\n",
    "\n",
    "\n",
    "DistilBERT = TFDistilBertForSequenceClassification.from_pretrained(MODEL_NAME,config=config)\n",
    "x = DistilBERT(input_word_ids, attention_mask=input_mask)\n",
    "x = x[0]\n",
    "\n",
    "x = tf.keras.layers.Dropout(0.1)(x)\n",
    "#x = tf.keras.layers.Flatten()(x)\n",
    "x = tf.keras.layers.Dense(6, activation='softmax')(x)\n",
    "model = tf.keras.Model(inputs=[input_word_ids, input_mask], outputs=x)\n",
    "\n",
    "for layer in model.layers[:3]:\n",
    "    layer.trainable = False\n",
    "\n",
    "model.summary()"
   ]
  },
  {
   "cell_type": "code",
   "execution_count": 216,
   "id": "307d891b",
   "metadata": {},
   "outputs": [],
   "source": [
    "### Create an output directory\n",
    "output_dir = './model1_outputs'\n",
    "if not os.path.exists(output_dir): ### If the file directory doesn't already exists,\n",
    "    os.makedirs(output_dir) ### Make it please"
   ]
  },
  {
   "cell_type": "code",
   "execution_count": 223,
   "id": "99988d7f",
   "metadata": {},
   "outputs": [],
   "source": [
    "model_chekpoint= ModelCheckpoint(filepath= output_dir+'/weihgts.{epoch:02d}.hdf5',\n",
    "                               save_weights_only=True)\n",
    "early_stopping= EarlyStopping(patience=3,# stop après 3 epoch\n",
    "                              monitor='val_loss',# regarder la val_loss\n",
    "                              mode= 'min',\n",
    "                              min_delta=0,# changement après 0\n",
    "                              restore_best_weights=False,\n",
    "                              verbose=1)"
   ]
  },
  {
   "cell_type": "code",
   "execution_count": 231,
   "id": "a41cf884",
   "metadata": {},
   "outputs": [],
   "source": [
    "model.compile(\n",
    "            optimizer=tf.keras.optimizers.Adam(lr=1e-5),\n",
    "            loss='sparse_categorical_crossentropy',\n",
    "            metrics=['accuracy'])"
   ]
  },
  {
   "cell_type": "code",
   "execution_count": null,
   "id": "b3ac75e3",
   "metadata": {},
   "outputs": [],
   "source": [
    "history = model.fit(X_train,\n",
    "                        y_train,\n",
    "                        epochs=5,\n",
    "                        batch_size=64,\n",
    "                        verbose=1,\n",
    "                        validation_data=(X_val, y_val),\n",
    "                        callbacks=[model_chekpoint,early_stopping]"
   ]
  }
 ],
 "metadata": {
  "kernelspec": {
   "display_name": "Python 3 (ipykernel)",
   "language": "python",
   "name": "python3"
  },
  "language_info": {
   "codemirror_mode": {
    "name": "ipython",
    "version": 3
   },
   "file_extension": ".py",
   "mimetype": "text/x-python",
   "name": "python",
   "nbconvert_exporter": "python",
   "pygments_lexer": "ipython3",
   "version": "3.9.7"
  }
 },
 "nbformat": 4,
 "nbformat_minor": 5
}
