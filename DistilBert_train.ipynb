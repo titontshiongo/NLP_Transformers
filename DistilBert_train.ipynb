{
 "cells": [
  {
   "cell_type": "markdown",
   "id": "9ec01bca-127b-490b-aef0-93051b15f7e2",
   "metadata": {},
   "source": [
    "# Entraînement du modèle DistilBert sans régularisation"
   ]
  },
  {
   "cell_type": "code",
   "execution_count": 2,
   "id": "90facaa6-7460-4d4c-9d2e-225face62463",
   "metadata": {},
   "outputs": [],
   "source": [
    "import pandas as pd\n",
    "import numpy as np\n",
    "import matplotlib.pyplot as plt\n",
    "import tensorflow as tf\n",
    "import keras\n",
    "import seaborn as sns\n",
    "from sklearn.model_selection import train_test_split\n",
    "from sklearn.metrics import accuracy_score,confusion_matrix,classification_report\n",
    "from transformers import DistilBertForSequenceClassification,DistilBertModel\n",
    "from transformers import TFDistilBertForSequenceClassification,TFDistilBertModel\n",
    "from transformers import DistilBertTokenizer,DistilBertTokenizerFast\n",
    "from tensorflow.keras.callbacks import ModelCheckpoint,EarlyStopping\n",
    "import os\n",
    "from tensorflow.keras.layers import Dense,Dropout, Input\n",
    "from tensorflow.keras import regularizers\n"
   ]
  },
  {
   "cell_type": "code",
   "execution_count": 3,
   "id": "ae0907d7-c471-45b0-880a-8aad8cff2fcb",
   "metadata": {},
   "outputs": [],
   "source": [
    "train= pd.read_csv('emotion_train.txt',delimiter=';',header=None,names=['sentence','label'])\n",
    "test= pd.read_csv ('emotion_test.txt',delimiter=';',header=None,names=['sentence','label'])\n",
    "valid= pd.read_csv('emotion_val.txt',delimiter=';',header=None, names=['sentence','label'])"
   ]
  },
  {
   "cell_type": "code",
   "execution_count": 4,
   "id": "5e6be9eb-d3e0-4f0a-8b4d-5d5d58fb7152",
   "metadata": {},
   "outputs": [],
   "source": [
    "df=pd.concat([train,test,valid])"
   ]
  },
  {
   "cell_type": "code",
   "execution_count": 5,
   "id": "ea9ee586-3d9b-4d36-9b7c-316ec36e302b",
   "metadata": {},
   "outputs": [
    {
     "data": {
      "text/html": [
       "<div>\n",
       "<style scoped>\n",
       "    .dataframe tbody tr th:only-of-type {\n",
       "        vertical-align: middle;\n",
       "    }\n",
       "\n",
       "    .dataframe tbody tr th {\n",
       "        vertical-align: top;\n",
       "    }\n",
       "\n",
       "    .dataframe thead th {\n",
       "        text-align: right;\n",
       "    }\n",
       "</style>\n",
       "<table border=\"1\" class=\"dataframe\">\n",
       "  <thead>\n",
       "    <tr style=\"text-align: right;\">\n",
       "      <th></th>\n",
       "      <th>sentence</th>\n",
       "      <th>label</th>\n",
       "    </tr>\n",
       "  </thead>\n",
       "  <tbody>\n",
       "    <tr>\n",
       "      <th>0</th>\n",
       "      <td>i didnt feel humiliated</td>\n",
       "      <td>sadness</td>\n",
       "    </tr>\n",
       "    <tr>\n",
       "      <th>1</th>\n",
       "      <td>i can go from feeling so hopeless to so damned...</td>\n",
       "      <td>sadness</td>\n",
       "    </tr>\n",
       "    <tr>\n",
       "      <th>2</th>\n",
       "      <td>im grabbing a minute to post i feel greedy wrong</td>\n",
       "      <td>anger</td>\n",
       "    </tr>\n",
       "    <tr>\n",
       "      <th>3</th>\n",
       "      <td>i am ever feeling nostalgic about the fireplac...</td>\n",
       "      <td>love</td>\n",
       "    </tr>\n",
       "    <tr>\n",
       "      <th>4</th>\n",
       "      <td>i am feeling grouchy</td>\n",
       "      <td>anger</td>\n",
       "    </tr>\n",
       "  </tbody>\n",
       "</table>\n",
       "</div>"
      ],
      "text/plain": [
       "                                            sentence    label\n",
       "0                            i didnt feel humiliated  sadness\n",
       "1  i can go from feeling so hopeless to so damned...  sadness\n",
       "2   im grabbing a minute to post i feel greedy wrong    anger\n",
       "3  i am ever feeling nostalgic about the fireplac...     love\n",
       "4                               i am feeling grouchy    anger"
      ]
     },
     "execution_count": 5,
     "metadata": {},
     "output_type": "execute_result"
    }
   ],
   "source": [
    "df.head()"
   ]
  },
  {
   "cell_type": "markdown",
   "id": "c0be2411-4a78-4d7e-a3a5-ddd2198eacd7",
   "metadata": {},
   "source": [
    "# Encodage des variables catégorielles"
   ]
  },
  {
   "cell_type": "code",
   "execution_count": 6,
   "id": "3f0e6dbd-6657-4dff-95f2-0802e3fbe2f5",
   "metadata": {},
   "outputs": [],
   "source": [
    "df['encoded_labels'] = df['label'].astype('category').cat.codes"
   ]
  },
  {
   "cell_type": "markdown",
   "id": "a34c3979-ea3d-4ad7-8267-c8f6747b4d42",
   "metadata": {},
   "source": [
    "# Transformation de la variable sentence et encoded_labels en objet liste"
   ]
  },
  {
   "cell_type": "code",
   "execution_count": 7,
   "id": "57d0f4f7-6201-4562-b336-5ebdca3ad9f0",
   "metadata": {},
   "outputs": [],
   "source": [
    "data_text= df['sentence'].tolist()\n",
    "data_label= df['encoded_labels'].tolist()"
   ]
  },
  {
   "cell_type": "code",
   "execution_count": 8,
   "id": "b488e93a-b1ab-4d6a-8f32-8cfdc5ab6e3a",
   "metadata": {},
   "outputs": [
    {
     "data": {
      "text/plain": [
       "(20000, 20000)"
      ]
     },
     "execution_count": 8,
     "metadata": {},
     "output_type": "execute_result"
    }
   ],
   "source": [
    "max_len=512\n",
    "num_classes=len(df['label'].unique())\n",
    "sentences=df['sentence'].tolist()\n",
    "labels=df['encoded_labels']\n",
    "len(sentences),len(labels)"
   ]
  },
  {
   "cell_type": "code",
   "execution_count": 9,
   "id": "eb160eba-8d54-4df1-8af5-2419236a16d1",
   "metadata": {},
   "outputs": [
    {
     "name": "stderr",
     "output_type": "stream",
     "text": [
      "/home/titontshiongo/anaconda3/lib/python3.10/site-packages/transformers/tokenization_utils_base.py:2304: FutureWarning: The `pad_to_max_length` argument is deprecated and will be removed in a future version, use `padding=True` or `padding='longest'` to pad to the longest sequence in the batch, or use `padding='max_length'` to pad to a max length. In this case, you can give a specific length with `max_length` (e.g. `max_length=45`) or leave max_length to None to pad to the maximal input size of the model (e.g. 512 for Bert).\n",
      "  warnings.warn(\n"
     ]
    }
   ],
   "source": [
    "# Prepare the model input\n",
    "dbert_tokenizer = DistilBertTokenizer.from_pretrained('distilbert-base-uncased')\n",
    "input_ids=[]\n",
    "attention_masks=[]\n",
    "\n",
    "for sent in sentences:\n",
    "    dbert_inps=dbert_tokenizer.encode_plus(sent,add_special_tokens = True,max_length =max_len,pad_to_max_length = True,return_attention_mask = True,truncation=True)\n",
    "    input_ids.append(dbert_inps['input_ids'])\n",
    "    attention_masks.append(dbert_inps['attention_mask'])\n",
    "\n",
    "input_ids = np.asarray(input_ids)\n",
    "attention_masks = np.array(attention_masks)\n",
    "labels = np.array(labels)"
   ]
  },
  {
   "cell_type": "markdown",
   "id": "e55ae899-09a6-49ff-80fb-5df3badf010e",
   "metadata": {},
   "source": [
    "# Train_test_split"
   ]
  },
  {
   "cell_type": "code",
   "execution_count": 10,
   "id": "44c7d6f7-e31a-4e2c-baba-05522f5eac9f",
   "metadata": {},
   "outputs": [],
   "source": [
    "# split data \n",
    "train_inp,val_inp,train_label,val_label,train_mask,val_mask=train_test_split(input_ids,labels,attention_masks,test_size=0.2)\n",
    "\n",
    "train_label = np.array([np.array(val) for val in train_label])\n",
    "val_label = np.array([np.array(val) for val in val_label])"
   ]
  },
  {
   "cell_type": "code",
   "execution_count": 1,
   "id": "982a5f54-836b-4e52-9e51-b9a1c23dc0df",
   "metadata": {},
   "outputs": [
    {
     "ename": "NameError",
     "evalue": "name 'train_inp' is not defined",
     "output_type": "error",
     "traceback": [
      "\u001b[0;31m---------------------------------------------------------------------------\u001b[0m",
      "\u001b[0;31mNameError\u001b[0m                                 Traceback (most recent call last)",
      "Cell \u001b[0;32mIn[1], line 1\u001b[0m\n\u001b[0;32m----> 1\u001b[0m \u001b[43mtrain_inp\u001b[49m\u001b[38;5;241m.\u001b[39mshape\n",
      "\u001b[0;31mNameError\u001b[0m: name 'train_inp' is not defined"
     ]
    }
   ],
   "source": [
    "train_inp.shape"
   ]
  },
  {
   "cell_type": "markdown",
   "id": "5a1ddb19-6819-4f87-a64c-214301397ce7",
   "metadata": {},
   "source": [
    "# Création du modèle DistilBert sans régularisation"
   ]
  },
  {
   "cell_type": "code",
   "execution_count": 13,
   "id": "7a92d70d-863f-4229-ac76-6aa50711d6c4",
   "metadata": {},
   "outputs": [
    {
     "name": "stderr",
     "output_type": "stream",
     "text": [
      "2023-04-05 12:15:04.526315: W tensorflow/stream_executor/platform/default/dso_loader.cc:64] Could not load dynamic library 'libcuda.so.1'; dlerror: libcuda.so.1: cannot open shared object file: No such file or directory\n",
      "2023-04-05 12:15:04.526354: W tensorflow/stream_executor/cuda/cuda_driver.cc:263] failed call to cuInit: UNKNOWN ERROR (303)\n",
      "2023-04-05 12:15:04.526380: I tensorflow/stream_executor/cuda/cuda_diagnostics.cc:156] kernel driver does not appear to be running on this host (valnan): /proc/driver/nvidia/version does not exist\n",
      "2023-04-05 12:15:04.526693: I tensorflow/core/platform/cpu_feature_guard.cc:193] This TensorFlow binary is optimized with oneAPI Deep Neural Network Library (oneDNN) to use the following CPU instructions in performance-critical operations:  AVX2 AVX_VNNI FMA\n",
      "To enable them in other operations, rebuild TensorFlow with the appropriate compiler flags.\n",
      "Some layers from the model checkpoint at distilbert-base-uncased were not used when initializing TFDistilBertModel: ['vocab_projector', 'activation_13', 'vocab_transform', 'vocab_layer_norm']\n",
      "- This IS expected if you are initializing TFDistilBertModel from the checkpoint of a model trained on another task or with another architecture (e.g. initializing a BertForSequenceClassification model from a BertForPreTraining model).\n",
      "- This IS NOT expected if you are initializing TFDistilBertModel from the checkpoint of a model that you expect to be exactly identical (initializing a BertForSequenceClassification model from a BertForSequenceClassification model).\n",
      "All the layers of TFDistilBertModel were initialized from the model checkpoint at distilbert-base-uncased.\n",
      "If your task is similar to the task the model of the checkpoint was trained on, you can already use TFDistilBertModel for predictions without further training.\n"
     ]
    }
   ],
   "source": [
    "# Distilbert sans régularisation\n",
    "dbert_model = TFDistilBertModel.from_pretrained('distilbert-base-uncased')\n",
    "\n",
    "def create_model():\n",
    "    inps = Input(shape = (max_len,), dtype='int64')\n",
    "    masks= Input(shape = (max_len,), dtype='int64')\n",
    "    \n",
    "    dbert_layer = dbert_model(inps, attention_mask=masks)[0][:,0,:]\n",
    "    dense = Dense(512,activation='relu')(dbert_layer)\n",
    "    \n",
    "    #dense = Dense(64,activation='relu',)(dense)\n",
    "    #taille 64: représentation latente des données\n",
    "    #dense = Dense(256,activation='relu',kernel_regularizer=regularizers.l2(0.01))(dense)\n",
    "    #dense = Dense(128,activation='relu',kernel_regularizer=regularizers.l2(0.01))(dense)\n",
    "    dropout= Dropout(0.5)(dense)\n",
    "    \n",
    "    pred = Dense(6, activation='softmax',)(dropout)\n",
    "    \n",
    "    model = tf.keras.Model(inputs=[inps,masks], outputs=pred)\n",
    "    \n",
    "    print(model.summary())\n",
    "    return model   "
   ]
  },
  {
   "cell_type": "code",
   "execution_count": null,
   "id": "29c85fd6-c118-4d2d-93f0-14c9754e8539",
   "metadata": {},
   "outputs": [],
   "source": []
  },
  {
   "cell_type": "code",
   "execution_count": 14,
   "id": "b9ff1ef4-b214-47cc-93f2-b9915d28c264",
   "metadata": {},
   "outputs": [
    {
     "name": "stdout",
     "output_type": "stream",
     "text": [
      "Model: \"model\"\n",
      "__________________________________________________________________________________________________\n",
      " Layer (type)                   Output Shape         Param #     Connected to                     \n",
      "==================================================================================================\n",
      " input_1 (InputLayer)           [(None, 512)]        0           []                               \n",
      "                                                                                                  \n",
      " input_2 (InputLayer)           [(None, 512)]        0           []                               \n",
      "                                                                                                  \n",
      " tf_distil_bert_model (TFDistil  TFBaseModelOutput(l  66362880   ['input_1[0][0]',                \n",
      " BertModel)                     ast_hidden_state=(N               'input_2[0][0]']                \n",
      "                                one, 512, 768),                                                   \n",
      "                                 hidden_states=None                                               \n",
      "                                , attentions=None)                                                \n",
      "                                                                                                  \n",
      " tf.__operators__.getitem (Slic  (None, 768)         0           ['tf_distil_bert_model[0][0]']   \n",
      " ingOpLambda)                                                                                     \n",
      "                                                                                                  \n",
      " dense (Dense)                  (None, 512)          393728      ['tf.__operators__.getitem[0][0]'\n",
      "                                                                 ]                                \n",
      "                                                                                                  \n",
      " dropout_19 (Dropout)           (None, 512)          0           ['dense[0][0]']                  \n",
      "                                                                                                  \n",
      " dense_1 (Dense)                (None, 6)            3078        ['dropout_19[0][0]']             \n",
      "                                                                                                  \n",
      "==================================================================================================\n",
      "Total params: 66,759,686\n",
      "Trainable params: 66,759,686\n",
      "Non-trainable params: 0\n",
      "__________________________________________________________________________________________________\n",
      "None\n"
     ]
    }
   ],
   "source": [
    "model=create_model()"
   ]
  },
  {
   "cell_type": "code",
   "execution_count": 16,
   "id": "67800d26-4be7-4ea2-b684-a37085dfe34f",
   "metadata": {},
   "outputs": [],
   "source": [
    "#  learning rate recommandé pourl'optimizer Adam 5e-5, 3e-5, 2e-5: tiré du site Web huggingface\n",
    "\n",
    "loss = tf.keras.losses.SparseCategoricalCrossentropy()\n",
    "metric = tf.keras.metrics.SparseCategoricalAccuracy('accuracy')\n",
    "optimizer = tf.keras.optimizers.Adam(learning_rate=3e-5)\n",
    "\n",
    "early_stopping= EarlyStopping(patience=3,# stop après 3 epoch\n",
    "                              monitor='val_loss',# regarder la val_loss\n",
    "                              mode= 'min',\n",
    "                              min_delta=0,# changement après 0\n",
    "                              restore_best_weights=False,\n",
    "                              verbose=1)"
   ]
  },
  {
   "cell_type": "markdown",
   "id": "1d722807-2d42-4e28-a84f-221742b88979",
   "metadata": {},
   "source": [
    "# Entraînement du modèle"
   ]
  },
  {
   "cell_type": "code",
   "execution_count": 17,
   "id": "3fdf2187-da54-47af-8708-bff29c3aaa7c",
   "metadata": {},
   "outputs": [
    {
     "name": "stdout",
     "output_type": "stream",
     "text": [
      "Epoch 1/10\n",
      "250/250 [==============================] - 5986s 24s/step - loss: 0.6040 - accuracy: 0.7834 - val_loss: 0.1748 - val_accuracy: 0.9268\n",
      "Epoch 2/10\n",
      "250/250 [==============================] - 5827s 23s/step - loss: 0.1629 - accuracy: 0.9327 - val_loss: 0.1357 - val_accuracy: 0.9345\n",
      "Epoch 3/10\n",
      "250/250 [==============================] - 5727s 23s/step - loss: 0.1135 - accuracy: 0.9492 - val_loss: 0.1479 - val_accuracy: 0.9370\n",
      "Epoch 4/10\n",
      "250/250 [==============================] - 5722s 23s/step - loss: 0.0983 - accuracy: 0.9547 - val_loss: 0.1338 - val_accuracy: 0.9340\n",
      "Epoch 5/10\n",
      "250/250 [==============================] - 5720s 23s/step - loss: 0.0851 - accuracy: 0.9614 - val_loss: 0.1606 - val_accuracy: 0.9340\n",
      "Epoch 6/10\n",
      "250/250 [==============================] - 5720s 23s/step - loss: 0.0751 - accuracy: 0.9651 - val_loss: 0.1512 - val_accuracy: 0.9298\n",
      "Epoch 7/10\n",
      "250/250 [==============================] - 5721s 23s/step - loss: 0.0652 - accuracy: 0.9714 - val_loss: 0.1938 - val_accuracy: 0.9302\n",
      "Epoch 7: early stopping\n"
     ]
    }
   ],
   "source": [
    "model.compile(loss=loss,optimizer=optimizer, metrics=[metric])\n",
    "history=model.fit([train_inp,train_mask],train_label,batch_size=64,epochs=100,validation_data=([val_inp,val_mask],val_label),callbacks=early_stopping)"
   ]
  },
  {
   "cell_type": "code",
   "execution_count": 18,
   "id": "9744d9ed-cfc4-4ead-b603-afa6a69b1e95",
   "metadata": {},
   "outputs": [],
   "source": [
    "# sauvergade du modèle\n",
    "model.save(\"myModel.h5\")\n",
    "\n",
    "# Pour charger le modèle sauvegardé\n",
    "# from keras.models import load_model\n",
    "# model_new = load_model(\"myModel.h5\")"
   ]
  },
  {
   "cell_type": "code",
   "execution_count": 19,
   "id": "b0b0d18b-4551-4c5f-80ba-3979f97dde4c",
   "metadata": {},
   "outputs": [],
   "source": [
    "def plot_history(train_history):\n",
    "    acc = history.history['accuracy']\n",
    "    val_acc = history.history['val_accuracy']\n",
    "    loss = history.history['loss']\n",
    "    val_loss = train_history.history['val_loss']\n",
    "    x = range(1, len(acc) + 1)\n",
    "\n",
    "    plt.figure(figsize=(12, 5))\n",
    "    plt.subplot(1, 2, 1)\n",
    "    plt.plot(x, acc, 'b', label='Training acc')\n",
    "    plt.plot(x, val_acc, 'r', label='Validation acc')\n",
    "    plt.title('Training and validation accuracy')\n",
    "    plt.legend()\n",
    "    plt.subplot(1, 2, 2)\n",
    "    plt.plot(x, loss, 'b', label='Training loss')\n",
    "    plt.plot(x, val_loss, 'r', label='Validation loss')\n",
    "    plt.title('Training and validation loss')\n",
    "    plt.legend()\n",
    "    print(\"Lowest Validation Loss: epoch {}\".format(np.argmin(val_loss)+1))\n",
    "    print(\"Highest Validation Accuracy: epoch {}\".format(np.argmax(val_acc)+1))"
   ]
  },
  {
   "cell_type": "code",
   "execution_count": 20,
   "id": "4bb16f5f-48f4-4b3e-8c83-6f3a93f28d94",
   "metadata": {},
   "outputs": [
    {
     "name": "stdout",
     "output_type": "stream",
     "text": [
      "Lowest Validation Loss: epoch 4\n",
      "Highest Validation Accuracy: epoch 3\n"
     ]
    },
    {
     "data": {
      "image/png": "[encoded data removed]",
      "text/plain": [
       "<Figure size 1200x500 with 2 Axes>"
      ]
     },
     "metadata": {},
     "output_type": "display_data"
    }
   ],
   "source": [
    "\n",
    "plot_history(history)"
   ]
  },
  {
   "cell_type": "code",
   "execution_count": 21,
   "id": "79e3c2e3-8bb7-4a66-a0e5-fe01dcd716b9",
   "metadata": {},
   "outputs": [
    {
     "name": "stdout",
     "output_type": "stream",
     "text": [
      "250/250 [==============================] - 488s 2s/step\n"
     ]
    }
   ],
   "source": [
    "preds = model.predict([val_inp,val_mask],batch_size=16)"
   ]
  },
  {
   "cell_type": "code",
   "execution_count": 25,
   "id": "3c8414bf-155a-4a00-9e38-cff43c7e1a74",
   "metadata": {},
   "outputs": [],
   "source": [
    "pred_labels = preds.argmax(axis=1)"
   ]
  },
  {
   "cell_type": "code",
   "execution_count": 26,
   "id": "d6a48fb9-828d-42c2-87e9-d25d42cba07a",
   "metadata": {},
   "outputs": [
    {
     "name": "stdout",
     "output_type": "stream",
     "text": [
      "Classification Report\n",
      "              precision    recall  f1-score   support\n",
      "\n",
      "       anger       0.94      0.92      0.93       527\n",
      "        love       0.89      0.93      0.91       492\n",
      "         joy       0.95      0.93      0.94      1326\n",
      "        fear       0.77      0.90      0.83       291\n",
      "     sadness       0.97      0.96      0.97      1207\n",
      "    surprise       0.85      0.76      0.80       157\n",
      "\n",
      "    accuracy                           0.93      4000\n",
      "   macro avg       0.90      0.90      0.90      4000\n",
      "weighted avg       0.93      0.93      0.93      4000\n",
      "\n"
     ]
    }
   ],
   "source": [
    "# Rapport de classification avec régularisation\n",
    "\n",
    "target_names = ['anger', 'love', 'joy', 'fear', 'sadness', 'surprise']\n",
    "print('Classification Report')\n",
    "print(classification_report(val_label,pred_labels,target_names=target_names))"
   ]
  },
  {
   "cell_type": "code",
   "execution_count": 27,
   "id": "efc42c8a-8f92-4625-822a-82ed1ee29313",
   "metadata": {},
   "outputs": [
    {
     "name": "stderr",
     "output_type": "stream",
     "text": [
      "/tmp/ipykernel_35301/811949431.py:4: MatplotlibDeprecationWarning: The seaborn styles shipped by Matplotlib are deprecated since 3.6, as they no longer correspond to the styles shipped by seaborn. However, they will remain available as 'seaborn-v0_8-<style>'. Alternatively, directly use the seaborn API instead.\n",
      "  plt.style.use('seaborn')\n"
     ]
    },
    {
     "data": {
      "image/png": "[encoded data removed]",
      "text/plain": [
       "<Figure size 800x550 with 2 Axes>"
      ]
     },
     "metadata": {},
     "output_type": "display_data"
    }
   ],
   "source": [
    "# Matrice de confusion\n",
    "from sklearn.metrics import confusion_matrix, classification_report\n",
    "import matplotlib.pyplot as plt\n",
    "plt.style.use('seaborn')\n",
    "import seaborn as sns\n",
    "\n",
    "cm = confusion_matrix(val_label,pred_labels,)\n",
    "# plot confusion matrix\n",
    "sns.heatmap(cm, annot=True, fmt='d',)\n",
    "plt.xlabel('Predicted')\n",
    "plt.ylabel('Truth')\n",
    "plt.show()"
   ]
  },
  {
   "cell_type": "code",
   "execution_count": 28,
   "id": "e052646c-ba6d-454f-9836-aa4c060bea3c",
   "metadata": {},
   "outputs": [
    {
     "data": {
      "text/plain": [
       "((4000, 512), (4000,), (4000, 512))"
      ]
     },
     "execution_count": 28,
     "metadata": {},
     "output_type": "execute_result"
    }
   ],
   "source": [
    "val_inp.shape,val_label.shape,val_mask.shape"
   ]
  },
  {
   "cell_type": "code",
   "execution_count": 31,
   "id": "3a0a0161-d82d-4134-a469-28a61194902d",
   "metadata": {},
   "outputs": [
    {
     "name": "stdout",
     "output_type": "stream",
     "text": [
      "250/250 - 459s - loss: 0.1938 - accuracy: 0.9302 - 459s/epoch - 2s/step\n"
     ]
    },
    {
     "data": {
      "text/plain": [
       "[0.19380314648151398, 0.9302499890327454]"
      ]
     },
     "execution_count": 31,
     "metadata": {},
     "output_type": "execute_result"
    }
   ],
   "source": [
    "model.evaluate([val_inp, val_mask], val_label,batch_size=16,)"
   ]
  },
  {
   "cell_type": "code",
   "execution_count": null,
   "id": "d8108c30-2758-4b23-9739-4f33f7bf4733",
   "metadata": {},
   "outputs": [],
   "source": [
    "model.evaluate([X_test, att_masks_test], y_test, batch_size=32, verbose=0)"
   ]
  }
 ],
 "metadata": {
  "kernelspec": {
   "display_name": "Python 3 (ipykernel)",
   "language": "python",
   "name": "python3"
  },
  "language_info": {
   "codemirror_mode": {
    "name": "ipython",
    "version": 3
   },
   "file_extension": ".py",
   "mimetype": "text/x-python",
   "name": "python",
   "nbconvert_exporter": "python",
   "pygments_lexer": "ipython3",
   "version": "3.10.9"
  }
 },
 "nbformat": 4,
 "nbformat_minor": 5
}
